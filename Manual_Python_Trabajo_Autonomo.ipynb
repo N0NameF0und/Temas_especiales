{
 "cells": [
  {
   "cell_type": "markdown",
   "metadata": {},
   "source": [
    "## Uso de libreria Numpy\n",
    "* verificacion de version y estado\n",
    "* uso de la libreria np array crea los vectores  y np shape devuelve las dimensiones y los elemtos por dimension"
   ]
  },
  {
   "cell_type": "code",
   "execution_count": 11,
   "metadata": {},
   "outputs": [
    {
     "name": "stdout",
     "output_type": "stream",
     "text": [
      "Rows:004 ; Cols:004\n",
      "[[ 0  1  2  3]\n",
      " [ 4  5  6  7]\n",
      " [ 8  9 10 11]]\n"
     ]
    }
   ],
   "source": [
    "import numpy as np\n",
    "\n",
    "a = np.array([[0,1,2,3], [4,5,6,7], [8,9,10,11]])\n",
    "\n",
    "rows, cols = np.shape(a)\n",
    "\n",
    "print ('Rows:{0:03d} ; Cols:{0:03d}'.format(cols, rows))\n",
    "print(a)\n",
    "\n"
   ]
  },
  {
   "cell_type": "markdown",
   "metadata": {},
   "source": [
    "     Poblamos un vector con numpy indicadn dimensieones y elementos"
   ]
  },
  {
   "cell_type": "code",
   "execution_count": 16,
   "metadata": {},
   "outputs": [
    {
     "data": {
      "text/plain": [
       "array([[1., 0., 0.],\n",
       "       [0., 1., 0.],\n",
       "       [0., 0., 1.]])"
      ]
     },
     "execution_count": 16,
     "metadata": {},
     "output_type": "execute_result"
    }
   ],
   "source": [
    "np.zeros((3,4)) #or empty\n"
   ]
  },
  {
   "cell_type": "code",
   "execution_count": 17,
   "metadata": {},
   "outputs": [
    {
     "data": {
      "text/plain": [
       "array([[0., 0., 0., 0.],\n",
       "       [0., 0., 0., 0.],\n",
       "       [0., 0., 0., 0.]])"
      ]
     },
     "execution_count": 17,
     "metadata": {},
     "output_type": "execute_result"
    }
   ],
   "source": [
    "np.zeros((3,4))"
   ]
  },
  {
   "cell_type": "markdown",
   "metadata": {},
   "source": [
    "Creación de vector dinamica"
   ]
  },
  {
   "cell_type": "code",
   "execution_count": 20,
   "metadata": {},
   "outputs": [
    {
     "name": "stdout",
     "output_type": "stream",
     "text": [
      "[[ 0  1  2]\n",
      " [10 11 12]\n",
      " [20 21 22]\n",
      " [30 31 32]]\n"
     ]
    }
   ],
   "source": [
    "\n",
    "c = np.array([[10*j+i for i in range(3)] for j in range(4)])\n",
    "print (c)"
   ]
  },
  {
   "cell_type": "markdown",
   "metadata": {},
   "source": [
    "mgrid(rango+:rango-:dimension solo x(numero)j(opcional)) , no funciona con mutiasignacion , hay que indicarlo en el misma funcion \n",
    "si hay vectores juntos el segundo toma las dimensiones del primero "
   ]
  },
  {
   "cell_type": "code",
   "execution_count": 48,
   "metadata": {},
   "outputs": [
    {
     "name": "stdout",
     "output_type": "stream",
     "text": [
      "[[[-1 -1 -1 -1 -1]\n",
      "  [ 0  0  0  0  0]]\n",
      "\n",
      " [[ 0  1  2  3  4]\n",
      "  [ 0  1  2  3  4]]]\n",
      "--------\n",
      "[[-1.  -0.5  0.   0.5  1. ]\n",
      " [-1.  -0.5  0.   0.5  1. ]\n",
      " [-1.  -0.5  0.   0.5  1. ]\n",
      " [-1.  -0.5  0.   0.5  1. ]\n",
      " [-1.  -0.5  0.   0.5  1. ]]\n"
     ]
    }
   ],
   "source": [
    "x  = np.mgrid[-1:1,0:5]\n",
    "print(x)\n",
    "print(\"--------\")\n",
    "print(y)"
   ]
  },
  {
   "cell_type": "markdown",
   "metadata": {},
   "source": [
    "poblamos un vector y lo cambiamos a 0 , luegro transformamos \n",
    "los valores validos a un vector comprimido"
   ]
  },
  {
   "cell_type": "code",
   "execution_count": 53,
   "metadata": {},
   "outputs": [
    {
     "name": "stdout",
     "output_type": "stream",
     "text": [
      "[[0.98879717 0.         0.         0.         0.         0.        ]\n",
      " [0.         0.88633501 0.         0.86246889 0.         0.85741465]\n",
      " [0.98020568 0.95081596 0.96338155 0.         0.         0.        ]\n",
      " [0.         0.         0.         0.98011596 0.         0.92616544]\n",
      " [0.         0.         0.         0.         0.         0.        ]]\n",
      "  (0, 0)\t0.9887971743556577\n",
      "  (1, 1)\t0.8863350079123218\n",
      "  (1, 3)\t0.8624688916644425\n",
      "  (1, 5)\t0.8574146548550866\n",
      "  (2, 0)\t0.9802056781817715\n",
      "  (2, 1)\t0.9508159565774831\n",
      "  (2, 2)\t0.9633815514305044\n",
      "  (3, 3)\t0.9801159552201893\n",
      "  (3, 5)\t0.92616544383539\n"
     ]
    }
   ],
   "source": [
    "from scipy import sparse\n",
    "X = np.random.random((5, 6)) \n",
    "\n",
    "X[X < 0.85] = 0\n",
    "\n",
    "print (X)\n",
    "X_csr = sparse.csr_matrix(X)\n",
    "\n",
    "print (X_csr)"
   ]
  },
  {
   "cell_type": "markdown",
   "metadata": {},
   "source": [
    "indicar un seeder en el random permitira resultados reproducibles"
   ]
  },
  {
   "cell_type": "code",
   "execution_count": 57,
   "metadata": {},
   "outputs": [
    {
     "data": {
      "text/plain": [
       "array([[0.92961609, 0.31637555, 0.18391881, 0.20456028, 0.56772503],\n",
       "       [0.5955447 , 0.96451452, 0.6531771 , 0.74890664, 0.65356987],\n",
       "       [0.74771481, 0.96130674, 0.0083883 , 0.10644438, 0.29870371],\n",
       "       [0.65641118, 0.80981255, 0.87217591, 0.9646476 , 0.72368535]])"
      ]
     },
     "execution_count": 57,
     "metadata": {},
     "output_type": "execute_result"
    }
   ],
   "source": [
    "np.random.seed(12345)\n",
    "np.random.rand(4,5)"
   ]
  },
  {
   "cell_type": "markdown",
   "metadata": {},
   "source": [
    "Copiar un vector y todos sus atributos"
   ]
  },
  {
   "cell_type": "code",
   "execution_count": null,
   "metadata": {},
   "outputs": [],
   "source": [
    "c = np.array(a,copy=true)"
   ]
  },
  {
   "cell_type": "markdown",
   "metadata": {},
   "source": [
    "    pandas vectore unidmensionales relacionados con un indice\n",
    "        data frames permite crear tablas (contenido , indice filas, indice columnas)"
   ]
  },
  {
   "cell_type": "code",
   "execution_count": 66,
   "metadata": {},
   "outputs": [
    {
     "name": "stdout",
     "output_type": "stream",
     "text": [
      "DatetimeIndex(['2013-01-01', '2013-01-02', '2013-01-03', '2013-01-04',\n",
      "               '2013-01-05', '2013-01-06'],\n",
      "              dtype='datetime64[ns]', freq='D')\n"
     ]
    },
    {
     "data": {
      "text/html": [
       "<div>\n",
       "<style scoped>\n",
       "    .dataframe tbody tr th:only-of-type {\n",
       "        vertical-align: middle;\n",
       "    }\n",
       "\n",
       "    .dataframe tbody tr th {\n",
       "        vertical-align: top;\n",
       "    }\n",
       "\n",
       "    .dataframe thead th {\n",
       "        text-align: right;\n",
       "    }\n",
       "</style>\n",
       "<table border=\"1\" class=\"dataframe\">\n",
       "  <thead>\n",
       "    <tr style=\"text-align: right;\">\n",
       "      <th></th>\n",
       "      <th>A</th>\n",
       "      <th>B</th>\n",
       "      <th>C</th>\n",
       "      <th>D</th>\n",
       "    </tr>\n",
       "  </thead>\n",
       "  <tbody>\n",
       "    <tr>\n",
       "      <th>2013-01-01</th>\n",
       "      <td>0.050009</td>\n",
       "      <td>0.670216</td>\n",
       "      <td>0.852965</td>\n",
       "      <td>-0.955869</td>\n",
       "    </tr>\n",
       "    <tr>\n",
       "      <th>2013-01-02</th>\n",
       "      <td>-0.023493</td>\n",
       "      <td>-2.304234</td>\n",
       "      <td>-0.652469</td>\n",
       "      <td>-1.218302</td>\n",
       "    </tr>\n",
       "    <tr>\n",
       "      <th>2013-01-03</th>\n",
       "      <td>-1.332610</td>\n",
       "      <td>1.074623</td>\n",
       "      <td>0.723642</td>\n",
       "      <td>0.690002</td>\n",
       "    </tr>\n",
       "    <tr>\n",
       "      <th>2013-01-04</th>\n",
       "      <td>1.001543</td>\n",
       "      <td>-0.503087</td>\n",
       "      <td>-0.622274</td>\n",
       "      <td>-0.921169</td>\n",
       "    </tr>\n",
       "    <tr>\n",
       "      <th>2013-01-05</th>\n",
       "      <td>-0.726213</td>\n",
       "      <td>0.222896</td>\n",
       "      <td>0.051316</td>\n",
       "      <td>-1.157719</td>\n",
       "    </tr>\n",
       "    <tr>\n",
       "      <th>2013-01-06</th>\n",
       "      <td>0.816707</td>\n",
       "      <td>0.433610</td>\n",
       "      <td>1.010737</td>\n",
       "      <td>1.824875</td>\n",
       "    </tr>\n",
       "  </tbody>\n",
       "</table>\n",
       "</div>"
      ],
      "text/plain": [
       "                   A         B         C         D\n",
       "2013-01-01  0.050009  0.670216  0.852965 -0.955869\n",
       "2013-01-02 -0.023493 -2.304234 -0.652469 -1.218302\n",
       "2013-01-03 -1.332610  1.074623  0.723642  0.690002\n",
       "2013-01-04  1.001543 -0.503087 -0.622274 -0.921169\n",
       "2013-01-05 -0.726213  0.222896  0.051316 -1.157719\n",
       "2013-01-06  0.816707  0.433610  1.010737  1.824875"
      ]
     },
     "execution_count": 66,
     "metadata": {},
     "output_type": "execute_result"
    }
   ],
   "source": [
    " import pandas as pd\n",
    "\n",
    "dates = pd.date_range('20130101',periods=6)\n",
    "print(dates)\n",
    "df = pd.DataFrame(np.random.randn(6,4), index=dates, columns=list('ABCD'))\n",
    "df"
   ]
  },
  {
   "cell_type": "code",
   "execution_count": null,
   "metadata": {},
   "outputs": [],
   "source": []
  },
  {
   "cell_type": "code",
   "execution_count": null,
   "metadata": {},
   "outputs": [],
   "source": []
  }
 ],
 "metadata": {
  "kernelspec": {
   "display_name": "Python 3",
   "language": "python",
   "name": "python3"
  },
  "language_info": {
   "codemirror_mode": {
    "name": "ipython",
    "version": 3
   },
   "file_extension": ".py",
   "mimetype": "text/x-python",
   "name": "python",
   "nbconvert_exporter": "python",
   "pygments_lexer": "ipython3",
   "version": "3.7.6"
  }
 },
 "nbformat": 4,
 "nbformat_minor": 4
}
