{
 "cells": [
  {
   "cell_type": "code",
   "execution_count": 23,
   "metadata": {},
   "outputs": [
    {
     "name": "stdout",
     "output_type": "stream",
     "text": [
      "[0, 0, 8, 8, 8, 8, 8]\n",
      "[0, 4, 8, 12, 12, 12, 12]\n",
      "[0, 4, 8, 12, 12, 12, 12]\n",
      "[0, 4, 8, 12, 13, 17, 21]\n",
      "[0, 4, 8, 12, 13, 17, 21]\n",
      "[0, 4, 8, 12, 13, 17, 21]\n",
      "[1, 1, 3, 3]\n",
      "El maximo valor que puede tener la mochila es  21\n"
     ]
    }
   ],
   "source": [
    "def Mochila(pesoMax,articulosNum):\n",
    "    matriz = [[0 for col in range(pesoMax+1)] for row in range(len(articulosNum[0]))]\n",
    "    for row in range(len(articulosNum[0])):\n",
    "        for col in range(pesoMax+1):\n",
    "            if articulosNum[0][row] > col: \n",
    "                matriz[row][col] = matriz[row-1][col] \n",
    "            else:\n",
    "                matriz[row][col] = max(matriz[row-1][col], matriz[row-1][col-articulosNum[0][row]]+ articulosNum[1][row])\n",
    "    for i in range(len(articulosNum[0])):\n",
    "        print(matriz[i])\n",
    "    packed = []\n",
    "    col = pesoMax\n",
    "    for row in range(len(articulosNum[0])-1,-1,-1): \n",
    "        if row != 0 and matriz[row][col] != matriz[row-1][col]:\n",
    "            packed.insert(0,row)\n",
    "        if matriz[row][col] != matriz[row-1][col]:\n",
    "            packed.insert(0,row)\n",
    "            col -= articulosNum[0][row]\n",
    "    print(packed)\n",
    "    print('El maximo valor que puede tener la mochila es ', matriz[len(articulosNum[0])-1][pesoMax])\n",
    "\n",
    "pesos = [2,1,5,3,4,5]\n",
    "valores = [8,4,6,9,2,4]\n",
    "Articulos = [pesos,valores]\n",
    "Mochila(6,Articulos)"
   ]
  },
  {
   "cell_type": "code",
   "execution_count": null,
   "metadata": {},
   "outputs": [],
   "source": []
  },
  {
   "cell_type": "code",
   "execution_count": null,
   "metadata": {},
   "outputs": [],
   "source": []
  },
  {
   "cell_type": "code",
   "execution_count": null,
   "metadata": {},
   "outputs": [],
   "source": []
  }
 ],
 "metadata": {
  "kernelspec": {
   "display_name": "Python 3",
   "language": "python",
   "name": "python3"
  },
  "language_info": {
   "codemirror_mode": {
    "name": "ipython",
    "version": 3
   },
   "file_extension": ".py",
   "mimetype": "text/x-python",
   "name": "python",
   "nbconvert_exporter": "python",
   "pygments_lexer": "ipython3",
   "version": "3.7.6"
  }
 },
 "nbformat": 4,
 "nbformat_minor": 4
}
