{
 "cells": [
  {
   "cell_type": "code",
   "execution_count": 8,
   "metadata": {},
   "outputs": [],
   "source": [
    "import enum\n",
    "import random\n",
    "\n",
    "\n",
    "Medida = enum.Enum(\n",
    "    \"Medida\", [\"izquierda\", \"derecha\", \"igual\"]\n",
    ")\n",
    "\n",
    "moneda_real = 2\n",
    "moneda_falsa = 1\n",
    "\n",
    "def monedas_lista(n):\n",
    "    assert n > 0\n",
    "    coins = [moneda_real] * (n - 1) + [moneda_falsa] * (1)\n",
    "    random.shuffle(coins)\n",
    "    return coins\n",
    "\n",
    "monedas_lista(10)\n",
    "\n",
    "def comparacion(left, right):\n",
    "    delta = sum(right) - sum(left)\n",
    "    if delta < 0:\n",
    "        return Medida.izquierda\n",
    "    elif delta > 0:\n",
    "        return Medida.derecha\n",
    "    else:\n",
    "        return Medida.igual\n",
    "\n",
    "comparacion([moneda_falsa], [moneda_real])\n",
    "\n",
    "\n",
    "def encontrar_falsa(*, monedas, comparacion):\n",
    "    pile = list(monedas)\n",
    "    while len(pile) > 1:\n",
    "        n = len(pile) // 2\n",
    "        A = pile[:n]\n",
    "        B = pile[n : 2 * n]\n",
    "\n",
    "        resultado = comparacion(A, B)\n",
    "        if resultado == Medida.izquierda:\n",
    "            pile = B\n",
    "        elif resultado == Medida.derecha:\n",
    "            pile = A\n",
    "        elif resultado == Medida.igual:\n",
    "            C = pile[2 * n :]\n",
    "            pile = C\n",
    "\n",
    "    return pile[0]"
   ]
  },
  {
   "cell_type": "code",
   "execution_count": null,
   "metadata": {},
   "outputs": [],
   "source": []
  },
  {
   "cell_type": "code",
   "execution_count": null,
   "metadata": {},
   "outputs": [],
   "source": []
  },
  {
   "cell_type": "code",
   "execution_count": null,
   "metadata": {},
   "outputs": [],
   "source": []
  }
 ],
 "metadata": {
  "kernelspec": {
   "display_name": "Python 3",
   "language": "python",
   "name": "python3"
  },
  "language_info": {
   "codemirror_mode": {
    "name": "ipython",
    "version": 3
   },
   "file_extension": ".py",
   "mimetype": "text/x-python",
   "name": "python",
   "nbconvert_exporter": "python",
   "pygments_lexer": "ipython3",
   "version": "3.7.6"
  }
 },
 "nbformat": 4,
 "nbformat_minor": 4
}
