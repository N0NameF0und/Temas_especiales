{
 "cells": [
  {
   "cell_type": "code",
   "execution_count": 3,
   "metadata": {},
   "outputs": [
    {
     "name": "stdout",
     "output_type": "stream",
     "text": [
      "Tamaño tablero6\n",
      "[(1, 2), (2, 4), (3, 6), (4, 1), (5, 3), (6, 5)]\n",
      "[(1, 3), (2, 6), (3, 2), (4, 5), (5, 1), (6, 4)]\n",
      "[(1, 4), (2, 1), (3, 5), (4, 2), (5, 6), (6, 3)]\n",
      "[(1, 5), (2, 3), (3, 1), (4, 6), (5, 4), (6, 2)]\n"
     ]
    }
   ],
   "source": [
    "from itertools import permutations, combinations\n",
    "\n",
    "text = input('Tamaño tablero')\n",
    "n = int(text)\n",
    "x = range(1, n+1)\n",
    "\n",
    "def diagonal(puntero1, puntero2):\n",
    "    x1 = puntero1[0]\n",
    "    y1 = puntero1[1]\n",
    "    x2 = puntero2[0]\n",
    "    y2 = puntero2[1]\n",
    "    gradiente = (y2-y1)/(x2-x1)\n",
    "    if gradiente == -1 or gradiente == 1:\n",
    "        return(True)\n",
    "    else:\n",
    "        return(False)\n",
    "\n",
    "lista_permutaciones = []\n",
    "\n",
    "for permuation in permutations(range(1, n+1)):\n",
    "    y = permuation\n",
    "    all_permutations = list(zip(x,y))\n",
    "    lista_permutaciones.append(all_permutations)\n",
    "\n",
    "for posible_solucion in lista_permutaciones:\n",
    "    soluciones = []\n",
    "    for piece1, piece2 in combinations(posible_solucion, 2):\n",
    "        soluciones.append(diagonal(piece1, piece2))\n",
    "\n",
    "    if True not in soluciones:\n",
    "        print(posible_solucion)"
   ]
  },
  {
   "cell_type": "code",
   "execution_count": null,
   "metadata": {},
   "outputs": [],
   "source": []
  }
 ],
 "metadata": {
  "kernelspec": {
   "display_name": "Python 3",
   "language": "python",
   "name": "python3"
  },
  "language_info": {
   "codemirror_mode": {
    "name": "ipython",
    "version": 3
   },
   "file_extension": ".py",
   "mimetype": "text/x-python",
   "name": "python",
   "nbconvert_exporter": "python",
   "pygments_lexer": "ipython3",
   "version": "3.7.6"
  }
 },
 "nbformat": 4,
 "nbformat_minor": 4
}
