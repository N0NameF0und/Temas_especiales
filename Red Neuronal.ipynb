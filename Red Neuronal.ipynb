{
 "cells": [
  {
   "cell_type": "code",
   "execution_count": 31,
   "metadata": {},
   "outputs": [
    {
     "name": "stdout",
     "output_type": "stream",
     "text": [
      "106\n",
      "1.0\n"
     ]
    }
   ],
   "source": [
    "import numpy as np \n",
    "import mathhttp://localhost:8888/notebooks/Desktop/Logo/6TO/Temas%20especiales/Temas_especiales/Red%20Neuronal.ipynb#\n",
    "\n",
    "class Neurona:\n",
    "    #entradas son elAlmacenamiento de los vectores , flotante\n",
    "    entradas= np.array([])\n",
    "    pesos = np.array([])\n",
    "    bias= 0\n",
    "    \n",
    "    def sumatoriaPonderada(self):\n",
    "        #Realiza la sumatoria de las entradas por los pesos + Bias\n",
    "        return (sum(np.multiply(self.entradas, self.pesos))+self.bias)\n",
    "    \n",
    "    def sigmoide(self):\n",
    "        #Estabiliza el resultado a un valor entre 1 y 0\n",
    "        return(1/(1 + math.exp(-self.sumatoriaPonderada())))\n",
    "    \n",
    "\n",
    "Neurona1 = Neurona()   \n",
    "\n",
    "Neurona1.entradas =[2,4]\n",
    "Neurona1.pesos=[1,1]\n",
    "Neurona1.bias=100\n",
    "\n",
    "print(Neurona1.sumatoriaPonderada())\n",
    "\n",
    "print(Neurona1.sigmoide())\n",
    "\n",
    "    \n",
    "    "
   ]
  },
  {
   "cell_type": "code",
   "execution_count": null,
   "metadata": {},
   "outputs": [],
   "source": []
  },
  {
   "cell_type": "code",
   "execution_count": null,
   "metadata": {},
   "outputs": [],
   "source": []
  },
  {
   "cell_type": "code",
   "execution_count": null,
   "metadata": {},
   "outputs": [],
   "source": []
  },
  {
   "cell_type": "code",
   "execution_count": null,
   "metadata": {},
   "outputs": [],
   "source": []
  },
  {
   "cell_type": "code",
   "execution_count": null,
   "metadata": {},
   "outputs": [],
   "source": []
  }
 ],
 "metadata": {
  "kernelspec": {
   "display_name": "Python 3",
   "language": "python",
   "name": "python3"
  },
  "language_info": {
   "codemirror_mode": {
    "name": "ipython",
    "version": 3
   },
   "file_extension": ".py",
   "mimetype": "text/x-python",
   "name": "python",
   "nbconvert_exporter": "python",
   "pygments_lexer": "ipython3",
   "version": "3.7.6"
  }
 },
 "nbformat": 4,
 "nbformat_minor": 4
}
