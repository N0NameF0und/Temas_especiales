{
 "cells": [
  {
   "cell_type": "code",
   "execution_count": 17,
   "metadata": {},
   "outputs": [
    {
     "name": "stdout",
     "output_type": "stream",
     "text": [
      "Perdiste\n",
      "1\n",
      "Numero de partidas ganadas con cambio = 100.0 %\n",
      "Numero de partidas ganadas sin cambio = 0.0 %\n",
      "Ganaste\n",
      "2\n",
      "Numero de partidas ganadas con cambio = 50.0 %\n",
      "Numero de partidas ganadas sin cambio = 50.0 %\n",
      "Perdiste\n",
      "3\n",
      "Numero de partidas ganadas con cambio = 66.66666666666666 %\n",
      "Numero de partidas ganadas sin cambio = 33.33333333333333 %\n",
      "Perdiste\n",
      "4\n",
      "Numero de partidas ganadas con cambio = 75.0 %\n",
      "Numero de partidas ganadas sin cambio = 25.0 %\n",
      "Perdiste\n",
      "5\n",
      "Numero de partidas ganadas con cambio = 80.0 %\n",
      "Numero de partidas ganadas sin cambio = 20.0 %\n",
      "Ganaste\n",
      "6\n",
      "Numero de partidas ganadas con cambio = 66.66666666666666 %\n",
      "Numero de partidas ganadas sin cambio = 33.33333333333333 %\n",
      "Perdiste\n",
      "7\n",
      "Numero de partidas ganadas con cambio = 71.42857142857143 %\n",
      "Numero de partidas ganadas sin cambio = 28.57142857142857 %\n",
      "Perdiste\n",
      "8\n",
      "Numero de partidas ganadas con cambio = 75.0 %\n",
      "Numero de partidas ganadas sin cambio = 25.0 %\n"
     ]
    }
   ],
   "source": [
    "import random\n",
    "from xml.dom import minidom\n",
    "import xml.etree.ElementTree as ET\n",
    "import os.path\n",
    "from os import path\n",
    "\n",
    "class Azar:\n",
    "    #Inicializa la variable\n",
    "    premios = []\n",
    "    num_partidas = 0\n",
    "    numero_puertas= 3\n",
    "    partidas_ganadas_cambio=0\n",
    "    partidas_ganadas_sin_cambio=0\n",
    "    \n",
    "    \n",
    "    #Crea la lista de premios\n",
    "    def crearPremios(self,numero_puertas): \n",
    "        puerta_premiada = random.randrange(0,self.numero_puertas)\n",
    "        self.premios = ['Burro'] * self.numero_puertas    \n",
    "        self.premios[puerta_premiada]='Carro'\n",
    "        return #print(premios)\n",
    "    \n",
    "    \n",
    "    #Ejecuta la lista y crea los registros\n",
    "    def MontyHall(self,puerta_seleccionada):\n",
    "        self.crearPremios(self.numero_puertas)\n",
    "        if self.premios[puerta_seleccionada-1] !=\"Carro\":\n",
    "            print(\"Perdiste\")\n",
    "            self.partidas_ganadas_cambio += 1\n",
    "            self.num_partidas += 1\n",
    "            self.Indices()\n",
    "\n",
    "        else:\n",
    "            print(\"Ganaste\")\n",
    "            self.partidas_ganadas_sin_cambio += 1\n",
    "            self.num_partidas += 1\n",
    "            self.Indices()\n",
    "     \n",
    "    #Indica las estadisticas\n",
    "    def Indices(self): \n",
    "        print(self.num_partidas)\n",
    "        porcentaje_cambio = (self.partidas_ganadas_cambio/self.num_partidas )*100\n",
    "        porcentaje_sin_cambio = (self.partidas_ganadas_sin_cambio /self.num_partidas )*100\n",
    "        print('Numero de partidas ganadas con cambio =' ,porcentaje_cambio ,'%')\n",
    "        print('Numero de partidas ganadas sin cambio =' ,porcentaje_sin_cambio,'%')\n",
    "        \n",
    "        #Ejecuta el numero de veces\n",
    "    def MontyHallpartidas(self,puertas,partidas,puertaseleccionada):\n",
    "        self.numero_puertas=puertas\n",
    "        for x in range(partidas):\n",
    "            self.MontyHall(puertaseleccionada)\n",
    "            \n",
    "        \n",
    "Juego = Azar()\n",
    "\n",
    "#Ejecuta 1 vez con 3 puertas\n",
    "#Juego.MontyHall(3)\n",
    "\n",
    "#Ejecuta varias veces con Numero de puertas , num partidas , puerta seleccionada Juego.MontyHallpartidas(10,5,7)\n",
    "Juego.MontyHallpartidas(10 , 8 , 2)\n",
    "\n",
    "\n",
    "\n",
    "        \n",
    " \n",
    "\n",
    "\n",
    "\n",
    "\n",
    "\n",
    "    \n",
    "\n",
    "\n",
    "\n",
    "\n",
    "    \n",
    "    \n",
    "    \n",
    "    \n",
    "\n"
   ]
  },
  {
   "cell_type": "markdown",
   "metadata": {},
   "source": [
    "### Consulta\n",
    "Como utilizar funciones como parametros"
   ]
  },
  {
   "cell_type": "code",
   "execution_count": 82,
   "metadata": {},
   "outputs": [
    {
     "name": "stdout",
     "output_type": "stream",
     "text": [
      "Hello:   testing fn1 Output = 1\n",
      "Goodbye: testing fn2 Output = 2\n"
     ]
    }
   ],
   "source": [
    "def fn1():\n",
    "    print('Hello:   ', end ='')\n",
    "    return (1)\n",
    "def fn2():\n",
    "    print('Goodbye: ', end ='')\n",
    "    return(2)\n",
    "def test(func):\n",
    "    print('testing', func.__name__, 'Output =', func())\n",
    "def main():\n",
    "  #  print('In program',__file__) # output: In program C:\\test.py\n",
    "    test(fn1)                    # output: Hello:   testing fn1 Output = 1\n",
    "    test(fn2)                    # output: Goodbye: testing fn2 Output = 2\n",
    "main()"
   ]
  },
  {
   "cell_type": "code",
   "execution_count": null,
   "metadata": {},
   "outputs": [],
   "source": []
  },
  {
   "cell_type": "code",
   "execution_count": null,
   "metadata": {},
   "outputs": [],
   "source": []
  },
  {
   "cell_type": "code",
   "execution_count": null,
   "metadata": {},
   "outputs": [],
   "source": []
  },
  {
   "cell_type": "code",
   "execution_count": null,
   "metadata": {},
   "outputs": [],
   "source": []
  },
  {
   "cell_type": "code",
   "execution_count": null,
   "metadata": {},
   "outputs": [],
   "source": []
  },
  {
   "cell_type": "code",
   "execution_count": null,
   "metadata": {},
   "outputs": [],
   "source": []
  }
 ],
 "metadata": {
  "kernelspec": {
   "display_name": "Python 3",
   "language": "python",
   "name": "python3"
  },
  "language_info": {
   "codemirror_mode": {
    "name": "ipython",
    "version": 3
   },
   "file_extension": ".py",
   "mimetype": "text/x-python",
   "name": "python",
   "nbconvert_exporter": "python",
   "pygments_lexer": "ipython3",
   "version": "3.7.6"
  }
 },
 "nbformat": 4,
 "nbformat_minor": 4
}
