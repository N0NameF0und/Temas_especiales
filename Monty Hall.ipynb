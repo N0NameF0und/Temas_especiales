{
 "cells": [
  {
   "cell_type": "code",
   "execution_count": 7,
   "metadata": {},
   "outputs": [
    {
     "name": "stdout",
     "output_type": "stream",
     "text": [
      "Hello:   testing fn1 Output = 1\n",
      "Goodbye: testing fn2 Output = 2\n"
     ]
    }
   ],
   "source": [
    "def fn1():\n",
    "    print('Hello:   ', end ='')\n",
    "    return (1)\n",
    "def fn2():\n",
    "    print('Goodbye: ', end ='')\n",
    "    return(2)\n",
    "def test(func):\n",
    "    print('testing', func.__name__, 'Output =', func())\n",
    "def main():\n",
    "  #  print('In program',__file__) # output: In program C:\\test.py\n",
    "    test(fn1)                    # output: Hello:   testing fn1 Output = 1\n",
    "    test(fn2)                    # output: Goodbye: testing fn2 Output = 2\n",
    "main()"
   ]
  },
  {
   "cell_type": "code",
   "execution_count": 9,
   "metadata": {},
   "outputs": [
    {
     "name": "stdout",
     "output_type": "stream",
     "text": [
      "2\n"
     ]
    }
   ],
   "source": [
    "a, b, c  = 1, 2, 3\n",
    "print(b)"
   ]
  },
  {
   "cell_type": "code",
   "execution_count": 41,
   "metadata": {},
   "outputs": [
    {
     "name": "stdout",
     "output_type": "stream",
     "text": [
      "Numero de partidas ganadas con cambio = 80.0 %\n",
      "Numero de partidas ganadas sin cambio = 20.0 %\n"
     ]
    }
   ],
   "source": [
    "import random\n",
    "\n",
    "num_partidas = 10\n",
    "puertas= 10\n",
    "partidas_ganadas_cambio=0\n",
    "partidas_ganadas_sin_cambio=0\n",
    "\n",
    "\n",
    "for indice in range (0,num_partidas):\n",
    "    puerta_premiada = random.randrange(0,puertas)\n",
    "    puerta_escodiga = random.randrange(0,puertas)\n",
    "    \n",
    "    if puerta_premiada !=puerta_escodiga:\n",
    "        partidas_ganadas_cambio = partidas_ganadas_cambio + 1\n",
    "        \n",
    "    else:\n",
    "        partidas_ganadas_sin_cambio = partidas_ganadas_sin_cambio + 1\n",
    "        \n",
    "porcentaje_cambio = (partidas_ganadas_cambio /num_partidas )*100\n",
    "porcentaje_sin_cambio = (partidas_ganadas_sin_cambio /num_partidas )*100\n",
    "\n",
    "\n",
    "print('Numero de partidas ganadas con cambio =' ,porcentaje_cambio ,'%')\n",
    "print('Numero de partidas ganadas sin cambio =' ,porcentaje_sin_cambio,'%')\n",
    "\n",
    "    \n",
    "    \n",
    "    \n",
    "    \n",
    "\n",
    "\n"
   ]
  },
  {
   "cell_type": "code",
   "execution_count": 39,
   "metadata": {},
   "outputs": [
    {
     "name": "stdout",
     "output_type": "stream",
     "text": [
      "burro\n"
     ]
    }
   ],
   "source": [
    "import random\n",
    "\n",
    "premios = [ \"coche\" , \"burro\" , \"burro\"]\n",
    "\n",
    "premios = random.shuffle(premios)\n",
    "\n",
    "def montyHall(numero):\n",
    "    if premios[numero] != 'coche'\n",
    "    return ('perdio')\n",
    "\n",
    "print(montyHall())\n",
    "\n",
    "\n",
    "\n",
    "\n"
   ]
  },
  {
   "cell_type": "code",
   "execution_count": null,
   "metadata": {},
   "outputs": [],
   "source": []
  },
  {
   "cell_type": "code",
   "execution_count": null,
   "metadata": {},
   "outputs": [],
   "source": []
  },
  {
   "cell_type": "code",
   "execution_count": null,
   "metadata": {},
   "outputs": [],
   "source": []
  },
  {
   "cell_type": "code",
   "execution_count": null,
   "metadata": {},
   "outputs": [],
   "source": []
  },
  {
   "cell_type": "code",
   "execution_count": null,
   "metadata": {},
   "outputs": [],
   "source": []
  },
  {
   "cell_type": "code",
   "execution_count": null,
   "metadata": {},
   "outputs": [],
   "source": []
  },
  {
   "cell_type": "code",
   "execution_count": null,
   "metadata": {},
   "outputs": [],
   "source": []
  }
 ],
 "metadata": {
  "kernelspec": {
   "display_name": "Python 3",
   "language": "python",
   "name": "python3"
  },
  "language_info": {
   "codemirror_mode": {
    "name": "ipython",
    "version": 3
   },
   "file_extension": ".py",
   "mimetype": "text/x-python",
   "name": "python",
   "nbconvert_exporter": "python",
   "pygments_lexer": "ipython3",
   "version": "3.7.6"
  }
 },
 "nbformat": 4,
 "nbformat_minor": 4
}
