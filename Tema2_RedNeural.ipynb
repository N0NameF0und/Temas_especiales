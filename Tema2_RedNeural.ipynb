{
 "cells": [
  {
   "cell_type": "code",
   "execution_count": 2,
   "metadata": {},
   "outputs": [
    {
     "ename": "ModuleNotFoundError",
     "evalue": "No module named 'tensorflow'",
     "output_type": "error",
     "traceback": [
      "\u001b[1;31m---------------------------------------------------------------------------\u001b[0m",
      "\u001b[1;31mModuleNotFoundError\u001b[0m                       Traceback (most recent call last)",
      "\u001b[1;32m<ipython-input-2-b2ea1b9aafe7>\u001b[0m in \u001b[0;36m<module>\u001b[1;34m\u001b[0m\n\u001b[1;32m----> 1\u001b[1;33m \u001b[1;32mimport\u001b[0m \u001b[0mtensorflow\u001b[0m \u001b[1;32mas\u001b[0m \u001b[0mtf\u001b[0m\u001b[1;33m\u001b[0m\u001b[1;33m\u001b[0m\u001b[0m\n\u001b[0m\u001b[0;32m      2\u001b[0m \u001b[1;32mimport\u001b[0m \u001b[0mnumpy\u001b[0m \u001b[1;32mas\u001b[0m \u001b[0mnp\u001b[0m\u001b[1;33m\u001b[0m\u001b[1;33m\u001b[0m\u001b[0m\n\u001b[0;32m      3\u001b[0m \u001b[1;32mimport\u001b[0m \u001b[0mmatplotlib\u001b[0m\u001b[1;33m.\u001b[0m\u001b[0mpyplot\u001b[0m \u001b[1;32mas\u001b[0m \u001b[0mplt\u001b[0m\u001b[1;33m\u001b[0m\u001b[1;33m\u001b[0m\u001b[0m\n\u001b[0;32m      4\u001b[0m \u001b[1;32mimport\u001b[0m \u001b[0mmath\u001b[0m\u001b[1;33m\u001b[0m\u001b[1;33m\u001b[0m\u001b[0m\n\u001b[0;32m      5\u001b[0m \u001b[1;32mfrom\u001b[0m \u001b[0mtensorflow\u001b[0m\u001b[1;33m.\u001b[0m\u001b[0mkeras\u001b[0m \u001b[1;32mimport\u001b[0m \u001b[0mlayers\u001b[0m\u001b[1;33m\u001b[0m\u001b[1;33m\u001b[0m\u001b[0m\n",
      "\u001b[1;31mModuleNotFoundError\u001b[0m: No module named 'tensorflow'"
     ]
    }
   ],
   "source": [
    "import tensorflow as tf\n",
    "import numpy as np\n",
    "import matplotlib.pyplot as plt\n",
    "import math\n",
    "from tensorflow.keras import layers\n",
    "\n",
    "#Usamos 1000 muestras\n",
    "SAMPLES = 1000\n",
    "SEED = 1337\n",
    "np.random.seed(SEED)\n",
    "tf.random.set_seed(SEED)\n",
    "x_values = np.random.uniform(low=0, high=2*math.pi, size=SAMPLES)\n",
    "np.random.shuffle(x_values)\n",
    "y_values = np.sin(x_values)\n",
    "y_values += 0.1 * np.random.randn(*y_values.shape)\n",
    "plt.plot(x_values, y_values, 'b.')\n",
    "plt.show()\n",
    "TRAIN_SPLIT =  int(0.6 * SAMPLES)\n",
    "TEST_SPLIT = int(0.2 * SAMPLES + TRAIN_SPLIT)\n",
    "x_train, x_validate, x_test = np.split(x_values, [TRAIN_SPLIT, TEST_SPLIT])\n",
    "y_train, y_validate, y_test = np.split(y_values, [TRAIN_SPLIT, TEST_SPLIT])\n",
    "\n",
    "\n",
    "assert (x_train.size + x_validate.size + x_test.size) ==  SAMPLES\n",
    "\n",
    "\n",
    "plt.plot(x_train, y_train, 'b.', label=\"Entrenar \")\n",
    "plt.plot(x_validate, y_validate, 'y.', label=\"Validar\")\n",
    "plt.plot(x_test, y_test, 'r.', label=\"testear\")\n",
    "plt.legend()\n",
    "plt.show()\n",
    "\n",
    "#Creamos el modelo\n",
    "model_1 = tf.keras.Sequential()\n",
    "\n",
    "#Creamos las capas \n",
    "model_1.add(layers.Dense(16, activation='relu', input_shape=(1,)))\n",
    "\n",
    "\n",
    "model_1.add(layers.Dense(1))\n",
    "\n",
    "model_1.compile(optimizer='rmsprop', loss='mse', metrics=['mae'])\n",
    "\n",
    "model_1.summary()\n",
    "\n",
    "model_1.add(layers.Dense(16, activation='relu', input_shape=(1,)))\n",
    "\n",
    "#Funcion activadora\n",
    "def relu(input):\n",
    "    return max(0.0, input)\n",
    "\n",
    "model_1.add(layers.Dense(1))\n",
    "\n",
    "output = sum((inputs * weights)) + bias\n",
    "\n",
    "model_1.compile(optimizer='rmsprop', loss='mse', metrics=['mae'])\n",
    "\n",
    "model_1.summary()\n",
    "\n",
    "history_1 = model_1.fit(x_train, y_train, epochs=1000, batch_size=16,\n",
    "                     validation_data=(x_validate, y_validate))"
   ]
  },
  {
   "cell_type": "code",
   "execution_count": null,
   "metadata": {},
   "outputs": [],
   "source": []
  }
 ],
 "metadata": {
  "kernelspec": {
   "display_name": "Python 3",
   "language": "python",
   "name": "python3"
  },
  "language_info": {
   "codemirror_mode": {
    "name": "ipython",
    "version": 3
   },
   "file_extension": ".py",
   "mimetype": "text/x-python",
   "name": "python",
   "nbconvert_exporter": "python",
   "pygments_lexer": "ipython3",
   "version": "3.7.6"
  }
 },
 "nbformat": 4,
 "nbformat_minor": 4
}
